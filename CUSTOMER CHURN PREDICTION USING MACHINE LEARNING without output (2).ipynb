{
 "cells": [
  {
   "cell_type": "markdown",
   "id": "b411582b",
   "metadata": {},
   "source": [
    "# CUSTOMER CHURN PREDICTION"
   ]
  },
  {
   "cell_type": "markdown",
   "id": "5e8de7bd",
   "metadata": {},
   "source": [
    "IMPORTING LIBRARIES"
   ]
  },
  {
   "cell_type": "markdown",
   "id": "88fc6de3",
   "metadata": {},
   "source": []
  },
  {
   "cell_type": "code",
   "execution_count": 4,
   "id": "ca5ad6eb",
   "metadata": {},
   "outputs": [],
   "source": [
    "import pandas as pd\n",
    "import matplotlib.pyplot as plt\n",
    "import seaborn as sns"
   ]
  },
  {
   "cell_type": "markdown",
   "id": "ae0c6f81",
   "metadata": {},
   "source": [
    "READING CSV FILE"
   ]
  },
  {
   "cell_type": "code",
   "execution_count": 6,
   "id": "7669bf79",
   "metadata": {},
   "outputs": [],
   "source": [
    "df=pd.read_csv('customer.csv')\n"
   ]
  },
  {
   "cell_type": "markdown",
   "id": "370287f1",
   "metadata": {},
   "source": [
    "DISPLAYING THE ROWS"
   ]
  },
  {
   "cell_type": "code",
   "execution_count": null,
   "id": "8741ad9b",
   "metadata": {},
   "outputs": [],
   "source": [
    "df.head() #Displaying the top 5 rows\n"
   ]
  },
  {
   "cell_type": "code",
   "execution_count": null,
   "id": "8a88ceb7",
   "metadata": {},
   "outputs": [],
   "source": [
    "df.tail() #Dispalying the bottom 5 rows"
   ]
  },
  {
   "cell_type": "markdown",
   "id": "5bb42e57",
   "metadata": {},
   "source": [
    "FINDING SHAPE,GETTING INFORMATION AND DESCRIBING THE DATASET"
   ]
  },
  {
   "cell_type": "code",
   "execution_count": null,
   "id": "e1d29db4",
   "metadata": {},
   "outputs": [],
   "source": [
    "df.shape\n"
   ]
  },
  {
   "cell_type": "code",
   "execution_count": null,
   "id": "155fc20e",
   "metadata": {
    "scrolled": true
   },
   "outputs": [],
   "source": [
    "print(\"Number of rows\",df.shape[0])\n",
    "print(\"Number of columns\",df.shape[1])"
   ]
  },
  {
   "cell_type": "code",
   "execution_count": null,
   "id": "23e180f5",
   "metadata": {},
   "outputs": [],
   "source": [
    "df.info()\n"
   ]
  },
  {
   "cell_type": "code",
   "execution_count": null,
   "id": "a36e72a6",
   "metadata": {},
   "outputs": [],
   "source": [
    "df.describe()\n"
   ]
  },
  {
   "cell_type": "markdown",
   "id": "ca0d38a4",
   "metadata": {},
   "source": [
    " CHECKING FOR NULL VALUES\n"
   ]
  },
  {
   "cell_type": "code",
   "execution_count": null,
   "id": "17aee0f3",
   "metadata": {},
   "outputs": [],
   "source": [
    "df.isnull()\n"
   ]
  },
  {
   "cell_type": "code",
   "execution_count": null,
   "id": "f5cc0e9c",
   "metadata": {},
   "outputs": [],
   "source": [
    "df.isnull().sum()"
   ]
  },
  {
   "cell_type": "markdown",
   "id": "827c7830",
   "metadata": {},
   "source": [
    "DROPPING IRRELEVANT DATAS\n"
   ]
  },
  {
   "cell_type": "code",
   "execution_count": null,
   "id": "480ec05c",
   "metadata": {},
   "outputs": [],
   "source": [
    "df.columns"
   ]
  },
  {
   "cell_type": "code",
   "execution_count": 20,
   "id": "e51eede8",
   "metadata": {},
   "outputs": [],
   "source": [
    "df=df.drop(['RowNumber', 'CustomerId', 'Surname'],axis=1)\n"
   ]
  },
  {
   "cell_type": "code",
   "execution_count": null,
   "id": "15f7df44",
   "metadata": {},
   "outputs": [],
   "source": [
    "df.head()\n"
   ]
  },
  {
   "cell_type": "code",
   "execution_count": null,
   "id": "885a0dd5",
   "metadata": {},
   "outputs": [],
   "source": [
    "df.columns"
   ]
  },
  {
   "cell_type": "markdown",
   "id": "f1b4ecf1",
   "metadata": {},
   "source": [
    "ENCODING CATEGORICAL DATA"
   ]
  },
  {
   "cell_type": "code",
   "execution_count": null,
   "id": "d00b5e3e",
   "metadata": {},
   "outputs": [],
   "source": [
    "df['Geography'].unique()\n"
   ]
  },
  {
   "cell_type": "code",
   "execution_count": null,
   "id": "b57e1f2a",
   "metadata": {},
   "outputs": [],
   "source": [
    "df['Gender'].unique()\n"
   ]
  },
  {
   "cell_type": "code",
   "execution_count": 26,
   "id": "39d63ce3",
   "metadata": {},
   "outputs": [],
   "source": [
    "df=pd.get_dummies(data=df,drop_first=True)\n"
   ]
  },
  {
   "cell_type": "code",
   "execution_count": null,
   "id": "0d78894c",
   "metadata": {},
   "outputs": [],
   "source": [
    "df.head()\n"
   ]
  },
  {
   "cell_type": "code",
   "execution_count": null,
   "id": "f923827c",
   "metadata": {},
   "outputs": [],
   "source": [
    "df['Exited'].value_counts()   #Imbalanced Data\n"
   ]
  },
  {
   "cell_type": "code",
   "execution_count": null,
   "id": "1f34bd1d",
   "metadata": {},
   "outputs": [],
   "source": [
    "df.Exited.plot.hist()\n"
   ]
  },
  {
   "cell_type": "code",
   "execution_count": null,
   "id": "7058a530",
   "metadata": {},
   "outputs": [],
   "source": [
    "sns.countplot(x='Exited', data=df)\n"
   ]
  },
  {
   "cell_type": "code",
   "execution_count": null,
   "id": "2e2113d4",
   "metadata": {},
   "outputs": [],
   "source": [
    "X=df.drop('Exited',axis=1) #Dropping the exited column\n",
    "X"
   ]
  },
  {
   "cell_type": "code",
   "execution_count": null,
   "id": "cea3363b",
   "metadata": {},
   "outputs": [],
   "source": [
    "X.corrwith(df['Exited']).plot.bar(figsize=(16,9), title='Correlated with Exited Column', rot = 45,grid = True)\n",
    "\n"
   ]
  },
  {
   "cell_type": "code",
   "execution_count": 33,
   "id": "ee15e063",
   "metadata": {},
   "outputs": [],
   "source": [
    "corr=df.corr()\n"
   ]
  },
  {
   "cell_type": "code",
   "execution_count": null,
   "id": "274283e3",
   "metadata": {},
   "outputs": [],
   "source": [
    "plt.figure(figsize=(16,9))\n",
    "sns.heatmap(corr,annot=True)\n",
    "\n"
   ]
  },
  {
   "cell_type": "code",
   "execution_count": 35,
   "id": "812ff352",
   "metadata": {},
   "outputs": [],
   "source": [
    "X=df.drop('Exited',axis=1)\n",
    "y=df['Exited']"
   ]
  },
  {
   "cell_type": "markdown",
   "id": "5b5dd4ab",
   "metadata": {},
   "source": [
    "HANDLING IMBALANCED DATA WITH SMOTE"
   ]
  },
  {
   "cell_type": "code",
   "execution_count": 37,
   "id": "58fbe1c3",
   "metadata": {},
   "outputs": [],
   "source": [
    "from imblearn.over_sampling import SMOTE   #Handling imbalanced data with smote\n"
   ]
  },
  {
   "cell_type": "code",
   "execution_count": null,
   "id": "dc079921",
   "metadata": {},
   "outputs": [],
   "source": [
    "X_res,y_res = SMOTE().fit_resample(X,y)\n"
   ]
  },
  {
   "cell_type": "code",
   "execution_count": null,
   "id": "a41de4a2",
   "metadata": {},
   "outputs": [],
   "source": [
    "y_res.value_counts()\n"
   ]
  },
  {
   "cell_type": "code",
   "execution_count": null,
   "id": "71f120f2",
   "metadata": {},
   "outputs": [],
   "source": [
    "X_res.value_counts()"
   ]
  },
  {
   "cell_type": "markdown",
   "id": "f4944dc0",
   "metadata": {},
   "source": [
    "SPLITTING THE DATASET INTO TRAINING SET AND TEST SET"
   ]
  },
  {
   "cell_type": "code",
   "execution_count": 42,
   "id": "4e13e40f",
   "metadata": {},
   "outputs": [],
   "source": [
    "from sklearn.model_selection import train_test_split\n"
   ]
  },
  {
   "cell_type": "code",
   "execution_count": 43,
   "id": "fda750f8",
   "metadata": {},
   "outputs": [],
   "source": [
    "X_train, X_test, y_train, y_test = train_test_split(X, y, test_size=0.2, random_state=0)\n",
    "     "
   ]
  },
  {
   "cell_type": "code",
   "execution_count": null,
   "id": "82f1d67e",
   "metadata": {},
   "outputs": [],
   "source": [
    "X_test.shape\n"
   ]
  },
  {
   "cell_type": "code",
   "execution_count": null,
   "id": "2fe0b0c5",
   "metadata": {},
   "outputs": [],
   "source": [
    "X_train.shape"
   ]
  },
  {
   "cell_type": "code",
   "execution_count": null,
   "id": "cf624c51",
   "metadata": {},
   "outputs": [],
   "source": [
    "y_train.shape"
   ]
  },
  {
   "cell_type": "code",
   "execution_count": null,
   "id": "19e25f6a",
   "metadata": {},
   "outputs": [],
   "source": [
    "y_test.shape"
   ]
  },
  {
   "cell_type": "markdown",
   "id": "08a46d17",
   "metadata": {},
   "source": [
    "FEATURE SCALING"
   ]
  },
  {
   "cell_type": "code",
   "execution_count": 49,
   "id": "460581ad",
   "metadata": {},
   "outputs": [],
   "source": [
    "from sklearn.preprocessing import StandardScaler\n"
   ]
  },
  {
   "cell_type": "code",
   "execution_count": 50,
   "id": "7ef9eeb6",
   "metadata": {},
   "outputs": [],
   "source": [
    "scaler = StandardScaler()\n"
   ]
  },
  {
   "cell_type": "code",
   "execution_count": 51,
   "id": "8a27f10f",
   "metadata": {},
   "outputs": [],
   "source": [
    "X_train= scaler.fit_transform(X_train)\n"
   ]
  },
  {
   "cell_type": "code",
   "execution_count": 52,
   "id": "76072724",
   "metadata": {},
   "outputs": [],
   "source": [
    "X_test= scaler.transform(X_test)\n"
   ]
  },
  {
   "cell_type": "code",
   "execution_count": null,
   "id": "1ff472eb",
   "metadata": {},
   "outputs": [],
   "source": [
    "X_train\n"
   ]
  },
  {
   "cell_type": "code",
   "execution_count": null,
   "id": "8918d71a",
   "metadata": {},
   "outputs": [],
   "source": [
    "X_test\n"
   ]
  },
  {
   "cell_type": "markdown",
   "id": "4bc2b64a",
   "metadata": {},
   "source": [
    "# APPLYING ALGORITHMS FOR IMBALANCED DATA"
   ]
  },
  {
   "cell_type": "markdown",
   "id": "34c6c0d2",
   "metadata": {},
   "source": [
    "LOGISTIC REGRESSION"
   ]
  },
  {
   "cell_type": "code",
   "execution_count": 57,
   "id": "0df921ce",
   "metadata": {},
   "outputs": [],
   "source": [
    "from sklearn.linear_model import LogisticRegression\n"
   ]
  },
  {
   "cell_type": "code",
   "execution_count": 58,
   "id": "43ae1679",
   "metadata": {},
   "outputs": [],
   "source": [
    "log=LogisticRegression()\n"
   ]
  },
  {
   "cell_type": "code",
   "execution_count": null,
   "id": "bce28d29",
   "metadata": {},
   "outputs": [],
   "source": [
    "log.fit(X_train,y_train)\n"
   ]
  },
  {
   "cell_type": "code",
   "execution_count": 60,
   "id": "f36e87f4",
   "metadata": {},
   "outputs": [],
   "source": [
    "clf = LogisticRegression(random_state=0).fit(X_train, y_train)\n"
   ]
  },
  {
   "cell_type": "code",
   "execution_count": 61,
   "id": "0b7f8340",
   "metadata": {},
   "outputs": [],
   "source": [
    "from sklearn.metrics import accuracy_score, confusion_matrix, f1_score, precision_score, recall_score"
   ]
  },
  {
   "cell_type": "code",
   "execution_count": 62,
   "id": "6abda46c",
   "metadata": {},
   "outputs": [],
   "source": [
    "y_pred1= clf.predict(X_test)\n",
    "acc=accuracy_score(y_test,y_pred1)\n",
    "f1=f1_score(y_test,y_pred1)\n",
    "prec=precision_score(y_test,y_pred1)\n",
    "rec=recall_score(y_test,y_pred1)\n"
   ]
  },
  {
   "cell_type": "code",
   "execution_count": null,
   "id": "da62bd38",
   "metadata": {},
   "outputs": [],
   "source": [
    "results=pd.DataFrame([['Logistic regression',acc,f1,prec,rec]],columns=['Model','Accuracy','F1','Precision','Recall'])\n",
    "results"
   ]
  },
  {
   "cell_type": "code",
   "execution_count": null,
   "id": "4a2e667d",
   "metadata": {},
   "outputs": [],
   "source": [
    "print(confusion_matrix(y_test,y_pred1))\n"
   ]
  },
  {
   "cell_type": "markdown",
   "id": "3548a5a6",
   "metadata": {},
   "source": [
    " SUPPORT VECTOR MACHINE"
   ]
  },
  {
   "cell_type": "code",
   "execution_count": null,
   "id": "a865e5d1",
   "metadata": {},
   "outputs": [],
   "source": [
    "from sklearn import svm\n",
    "svm=svm.SVC()\n",
    "svm.fit(X_train,y_train)\n"
   ]
  },
  {
   "cell_type": "code",
   "execution_count": 67,
   "id": "154161a2",
   "metadata": {},
   "outputs": [],
   "source": [
    "y_pred2= svm.predict(X_test)\n",
    "acc=accuracy_score(y_test,y_pred2)\n",
    "f1=f1_score(y_test,y_pred2)\n",
    "prec=precision_score(y_test,y_pred2)\n",
    "rec=recall_score(y_test,y_pred2)\n"
   ]
  },
  {
   "cell_type": "code",
   "execution_count": null,
   "id": "b19bd3fa",
   "metadata": {},
   "outputs": [],
   "source": [
    "results=pd.DataFrame([['SVM',acc,f1,prec,rec]],columns=['Model','Accuracy','F1','Precision','Recall'])\n",
    "results"
   ]
  },
  {
   "cell_type": "code",
   "execution_count": null,
   "id": "6f2e10cb",
   "metadata": {},
   "outputs": [],
   "source": [
    "print(confusion_matrix(y_test,y_pred2))\n"
   ]
  },
  {
   "cell_type": "markdown",
   "id": "338f2389",
   "metadata": {},
   "source": [
    "K-NEIGHBORS CLASSIFICATION\n"
   ]
  },
  {
   "cell_type": "code",
   "execution_count": null,
   "id": "80ba33b0",
   "metadata": {},
   "outputs": [],
   "source": [
    "from sklearn.neighbors import KNeighborsClassifier\n",
    "knn=KNeighborsClassifier()\n",
    "knn.fit(X_train,y_train)"
   ]
  },
  {
   "cell_type": "code",
   "execution_count": 72,
   "id": "49d69da9",
   "metadata": {},
   "outputs": [],
   "source": [
    "y_pred3= knn.predict(X_test)\n",
    "acc=accuracy_score(y_test,y_pred3)\n",
    "f1=f1_score(y_test,y_pred3)\n",
    "prec=precision_score(y_test,y_pred3)\n",
    "rec=recall_score(y_test,y_pred3)\n"
   ]
  },
  {
   "cell_type": "code",
   "execution_count": null,
   "id": "033b96ec",
   "metadata": {},
   "outputs": [],
   "source": [
    "results=pd.DataFrame([['KNN',acc,f1,prec,rec]],columns=['Model','Accuracy','F1','Precision','Recall'])\n",
    "results"
   ]
  },
  {
   "cell_type": "code",
   "execution_count": null,
   "id": "7e0c50ec",
   "metadata": {},
   "outputs": [],
   "source": [
    "print(confusion_matrix(y_test,y_pred3))\n"
   ]
  },
  {
   "cell_type": "markdown",
   "id": "f1785303",
   "metadata": {},
   "source": [
    " DECISION TREE CLASSIFIER\n"
   ]
  },
  {
   "cell_type": "code",
   "execution_count": null,
   "id": "379718f6",
   "metadata": {},
   "outputs": [],
   "source": [
    "from sklearn.tree import DecisionTreeClassifier\n",
    "dt=DecisionTreeClassifier()\n",
    "dt.fit(X_train,y_train)"
   ]
  },
  {
   "cell_type": "code",
   "execution_count": 77,
   "id": "741523f9",
   "metadata": {},
   "outputs": [],
   "source": [
    "y_pred4= dt.predict(X_test)\n",
    "acc=accuracy_score(y_test,y_pred4)\n",
    "f1=f1_score(y_test,y_pred4)\n",
    "prec=precision_score(y_test,y_pred4)\n",
    "rec=recall_score(y_test,y_pred4)"
   ]
  },
  {
   "cell_type": "code",
   "execution_count": null,
   "id": "52ad9e04",
   "metadata": {},
   "outputs": [],
   "source": [
    "results=pd.DataFrame([['Decision Tree Classifier',acc,f1,prec,rec]],columns=['Model','Accuracy','F1','Precision','Recall'])\n",
    "results"
   ]
  },
  {
   "cell_type": "code",
   "execution_count": null,
   "id": "037f5d87",
   "metadata": {},
   "outputs": [],
   "source": [
    "print(confusion_matrix(y_test,y_pred4))\n"
   ]
  },
  {
   "cell_type": "markdown",
   "id": "26fb0dd4",
   "metadata": {},
   "source": [
    "RANDOM FOREST CLASSIFIER"
   ]
  },
  {
   "cell_type": "code",
   "execution_count": null,
   "id": "399492ec",
   "metadata": {},
   "outputs": [],
   "source": [
    "from sklearn.ensemble import RandomForestClassifier\n",
    "rf=RandomForestClassifier()\n",
    "rf.fit(X_train,y_train)\n"
   ]
  },
  {
   "cell_type": "code",
   "execution_count": 82,
   "id": "5df73e37",
   "metadata": {},
   "outputs": [],
   "source": [
    "y_pred5= rf.predict(X_test)\n",
    "acc=accuracy_score(y_test,y_pred5)\n",
    "f1=f1_score(y_test,y_pred5)\n",
    "prec=precision_score(y_test,y_pred5)\n",
    "rec=recall_score(y_test,y_pred5)\n"
   ]
  },
  {
   "cell_type": "code",
   "execution_count": null,
   "id": "1ccb792f",
   "metadata": {},
   "outputs": [],
   "source": [
    "results=pd.DataFrame([['Random Forest Classifier',acc,f1,prec,rec]],columns=['Model','Accuracy','F1','Precision','Recall'])\n",
    "results"
   ]
  },
  {
   "cell_type": "code",
   "execution_count": null,
   "id": "c44b93ba",
   "metadata": {},
   "outputs": [],
   "source": [
    "print(confusion_matrix(y_test,y_pred5))\n"
   ]
  },
  {
   "cell_type": "markdown",
   "id": "ada01233",
   "metadata": {},
   "source": [
    " GRADIENT BOOSTING CLASSIFIER"
   ]
  },
  {
   "cell_type": "code",
   "execution_count": null,
   "id": "bb87b9ee",
   "metadata": {},
   "outputs": [],
   "source": [
    "from sklearn.ensemble import GradientBoostingClassifier\n",
    "gbc=GradientBoostingClassifier()\n",
    "gbc.fit(X_train,y_train)"
   ]
  },
  {
   "cell_type": "code",
   "execution_count": 87,
   "id": "a02b4df4",
   "metadata": {},
   "outputs": [],
   "source": [
    "y_pred6= gbc.predict(X_test)\n",
    "acc=accuracy_score(y_test,y_pred6)\n",
    "f1=f1_score(y_test,y_pred6)\n",
    "prec=precision_score(y_test,y_pred6)\n",
    "rec=recall_score(y_test,y_pred6)\n"
   ]
  },
  {
   "cell_type": "code",
   "execution_count": null,
   "id": "27a890ef",
   "metadata": {},
   "outputs": [],
   "source": [
    "results=pd.DataFrame([['Gradient Boosting Classifier',acc,f1,prec,rec]],columns=['Model','Accuracy','F1','Precision','Recall'])\n",
    "results\n"
   ]
  },
  {
   "cell_type": "code",
   "execution_count": null,
   "id": "a2437f0b",
   "metadata": {},
   "outputs": [],
   "source": [
    "print(confusion_matrix(y_test,y_pred6))\n"
   ]
  },
  {
   "cell_type": "markdown",
   "id": "be2aa2a0",
   "metadata": {},
   "source": [
    "REPRESENTATION OF VARIOUS MODELS USING PLOTS"
   ]
  },
  {
   "cell_type": "code",
   "execution_count": 91,
   "id": "8636669a",
   "metadata": {},
   "outputs": [],
   "source": [
    "models = ['Logistic Regression', 'Support Vector', 'KNearest Neighbor', 'Decision Tree', 'Random Forest', 'Gradient Boosting']\n",
    "comparison_methods = pd.DataFrame({\n",
    "    'Models': models,\n",
    "    'Accuracy': [\n",
    "        accuracy_score(y_test, y_pred1),\n",
    "        accuracy_score(y_test, y_pred2),\n",
    "        accuracy_score(y_test, y_pred3),\n",
    "        accuracy_score(y_test, y_pred4),\n",
    "        accuracy_score(y_test, y_pred5),\n",
    "        accuracy_score(y_test, y_pred6)\n",
    "    ]\n",
    "})\n"
   ]
  },
  {
   "cell_type": "code",
   "execution_count": null,
   "id": "4fdfa0aa",
   "metadata": {},
   "outputs": [],
   "source": [
    "comparison_methods"
   ]
  },
  {
   "cell_type": "code",
   "execution_count": null,
   "id": "cac29980",
   "metadata": {},
   "outputs": [],
   "source": [
    "sns.barplot(x='Models', y='Accuracy', data=comparison_methods, dodge=False)\n",
    "plt.xticks(rotation=65, ha='right')\n",
    "plt.title('Plot of models based on Accuracy')\n",
    "plt.show()\n"
   ]
  },
  {
   "cell_type": "code",
   "execution_count": 94,
   "id": "0ad591ae",
   "metadata": {},
   "outputs": [],
   "source": [
    "models = ['Logistic Regression', 'Support Vector', 'KNearest Neighbor', 'Decision Tree', 'Random Forest', 'Gradient Boosting']\n",
    "comparison_methods = pd.DataFrame({\n",
    "    'Models': models,\n",
    "    'Precision': [\n",
    "        precision_score(y_test, y_pred1),\n",
    "        precision_score(y_test, y_pred2),\n",
    "        precision_score(y_test, y_pred3),\n",
    "        precision_score(y_test, y_pred4),\n",
    "        precision_score(y_test, y_pred5),\n",
    "        precision_score(y_test, y_pred6)\n",
    "    ]\n",
    "})\n",
    "\n"
   ]
  },
  {
   "cell_type": "code",
   "execution_count": null,
   "id": "5d9eedd9",
   "metadata": {},
   "outputs": [],
   "source": [
    "comparison_methods"
   ]
  },
  {
   "cell_type": "code",
   "execution_count": null,
   "id": "caa5ae11",
   "metadata": {},
   "outputs": [],
   "source": [
    "sns.barplot(x='Models', y='Precision', data=comparison_methods, dodge=False)\n",
    "plt.xticks(rotation=65, ha='right')\n",
    "plt.title('Plot of models based on Precision')\n",
    "plt.show()\n"
   ]
  },
  {
   "cell_type": "markdown",
   "id": "a7f8cde8",
   "metadata": {},
   "source": [
    "# APPLYING ALGORITHMS FOR BALANCED DATA  "
   ]
  },
  {
   "cell_type": "code",
   "execution_count": null,
   "id": "2cea3866",
   "metadata": {},
   "outputs": [],
   "source": [
    "from imblearn.over_sampling import SMOTE   #Balanced \n",
    "X_res,y_res=SMOTE().fit_resample(X,y)\n",
    "X_res.value_counts()\n",
    "y_res.value_counts()\n"
   ]
  },
  {
   "cell_type": "code",
   "execution_count": 99,
   "id": "453bfd8a",
   "metadata": {},
   "outputs": [],
   "source": [
    "from sklearn.model_selection import train_test_split\n",
    "X_train, X_test, y_train, y_test = train_test_split(X_res, y_res, test_size=0.2, random_state=0)"
   ]
  },
  {
   "cell_type": "code",
   "execution_count": 100,
   "id": "574a632e",
   "metadata": {},
   "outputs": [],
   "source": [
    "from sklearn.preprocessing import StandardScaler\n",
    "scaler = StandardScaler()\n",
    "X_train= scaler.fit_transform(X_train)\n",
    "X_test= scaler.transform(X_test)\n"
   ]
  },
  {
   "cell_type": "code",
   "execution_count": null,
   "id": "65c334e6",
   "metadata": {},
   "outputs": [],
   "source": [
    "X_train\n"
   ]
  },
  {
   "cell_type": "code",
   "execution_count": null,
   "id": "3b05fb73",
   "metadata": {},
   "outputs": [],
   "source": [
    "X_test\n"
   ]
  },
  {
   "cell_type": "markdown",
   "id": "422b5ed6",
   "metadata": {},
   "source": [
    "LOGISTIC REGRESSION"
   ]
  },
  {
   "cell_type": "code",
   "execution_count": null,
   "id": "c347ee49",
   "metadata": {},
   "outputs": [],
   "source": [
    "from sklearn.linear_model import LogisticRegression\n",
    "log=LogisticRegression()\n",
    "log.fit(X_train,y_train)\n",
    "clf = LogisticRegression(random_state=0).fit(X_train, y_train)\n",
    "from sklearn.metrics import accuracy_score, confusion_matrix, f1_score, precision_score, recall_score\n",
    "y_pred1= clf.predict(X_test)\n",
    "acc=accuracy_score(y_test,y_pred1)\n",
    "f1=f1_score(y_test,y_pred1)\n",
    "prec=precision_score(y_test,y_pred1)\n",
    "rec=recall_score(y_test,y_pred1)\n",
    "results=pd.DataFrame([['Logistic regression',acc,f1,prec,rec]],columns=['Model','Accuracy','F1','Precision','Recall'])\n",
    "results\n"
   ]
  },
  {
   "cell_type": "markdown",
   "id": "3c4f26ac",
   "metadata": {},
   "source": [
    "SUPPORT VECTOR "
   ]
  },
  {
   "cell_type": "code",
   "execution_count": null,
   "id": "71d1d0f8",
   "metadata": {},
   "outputs": [],
   "source": [
    "from sklearn import svm\n",
    "svm=svm.SVC()\n",
    "svm.fit(X_train,y_train)\n",
    "from sklearn.metrics import accuracy_score, confusion_matrix, f1_score, precision_score, recall_score\n",
    "y_pred2= svm.predict(X_test)\n",
    "acc=accuracy_score(y_test,y_pred2)\n",
    "f1=f1_score(y_test,y_pred2)\n",
    "prec=precision_score(y_test,y_pred2)\n",
    "rec=recall_score(y_test,y_pred2)\n",
    "results=pd.DataFrame([['SVM',acc,f1,prec,rec]],columns=['Model','Accuracy','F1','Precision','Recall'])\n",
    "results\n",
    "\n"
   ]
  },
  {
   "cell_type": "markdown",
   "id": "37b91979",
   "metadata": {},
   "source": [
    "K-NEIGHBOR CLASSIFICATION"
   ]
  },
  {
   "cell_type": "code",
   "execution_count": null,
   "id": "f864d5b7",
   "metadata": {},
   "outputs": [],
   "source": [
    "from sklearn.neighbors import KNeighborsClassifier\n",
    "knn=KNeighborsClassifier()\n",
    "knn.fit(X_train,y_train)\n",
    "from sklearn.metrics import accuracy_score, confusion_matrix, f1_score, precision_score, recall_score\n",
    "y_pred3= knn.predict(X_test)\n",
    "acc=accuracy_score(y_test,y_pred3)\n",
    "f1=f1_score(y_test,y_pred3)\n",
    "prec=precision_score(y_test,y_pred3)\n",
    "rec=recall_score(y_test,y_pred3)\n",
    "results=pd.DataFrame([['KNN',acc,f1,prec,rec]],columns=['Model','Accuracy','F1','Precision','Recall'])\n",
    "results"
   ]
  },
  {
   "cell_type": "markdown",
   "id": "3953a524",
   "metadata": {},
   "source": [
    "DECISION TREE CLASSIFICATION"
   ]
  },
  {
   "cell_type": "code",
   "execution_count": null,
   "id": "dc60d474",
   "metadata": {},
   "outputs": [],
   "source": [
    "from sklearn.tree import DecisionTreeClassifier\n",
    "dt=DecisionTreeClassifier()\n",
    "dt.fit(X_train,y_train)\n",
    "from sklearn.metrics import accuracy_score, confusion_matrix, f1_score, precision_score, recall_score\n",
    "y_pred4= dt.predict(X_test)\n",
    "acc=accuracy_score(y_test,y_pred4)\n",
    "f1=f1_score(y_test,y_pred4)\n",
    "prec=precision_score(y_test,y_pred4)\n",
    "rec=recall_score(y_test,y_pred4)\n",
    "results=pd.DataFrame([['Decision Tree Classifier',acc,f1,prec,rec]],columns=['Model','Accuracy','F1','Precision','Recall'])\n",
    "results"
   ]
  },
  {
   "cell_type": "markdown",
   "id": "1d2e4b73",
   "metadata": {},
   "source": [
    "RANDOM FOREST CLASSIFICATION"
   ]
  },
  {
   "cell_type": "code",
   "execution_count": null,
   "id": "bf030115",
   "metadata": {},
   "outputs": [],
   "source": [
    "from sklearn.ensemble import RandomForestClassifier\n",
    "rf=RandomForestClassifier()\n",
    "rf.fit(X_train,y_train)\n",
    "from sklearn.metrics import accuracy_score, confusion_matrix, f1_score, precision_score, recall_score\n",
    "y_pred5= rf.predict(X_test)\n",
    "acc=accuracy_score(y_test,y_pred5)\n",
    "f1=f1_score(y_test,y_pred5)\n",
    "prec=precision_score(y_test,y_pred5)\n",
    "rec=recall_score(y_test,y_pred5)\n",
    "results=pd.DataFrame([['Random Forest Classifier',acc,f1,prec,rec]],columns=['Model','Accuracy','F1','Precision','Recall'])\n",
    "results\n"
   ]
  },
  {
   "cell_type": "markdown",
   "id": "e0e705d9",
   "metadata": {},
   "source": [
    "GRADIENT BOOSTING CLASSIFICATION"
   ]
  },
  {
   "cell_type": "code",
   "execution_count": null,
   "id": "ad0a3a8c",
   "metadata": {},
   "outputs": [],
   "source": [
    "from sklearn.ensemble import GradientBoostingClassifier\n",
    "gbc=GradientBoostingClassifier()\n",
    "gbc.fit(X_train,y_train)\n",
    "from sklearn.metrics import accuracy_score, confusion_matrix, f1_score, precision_score, recall_score\n",
    "y_pred6= gbc.predict(X_test)\n",
    "acc=accuracy_score(y_test,y_pred6)\n",
    "f1=f1_score(y_test,y_pred6)\n",
    "prec=precision_score(y_test,y_pred6)\n",
    "rec=recall_score(y_test,y_pred6)\n",
    "results=pd.DataFrame([['Gradient Boosting Classifier',acc,f1,prec,rec]],columns=['Model','Accuracy','F1','Precision','Recall'])\n",
    "results\n"
   ]
  },
  {
   "cell_type": "markdown",
   "id": "e2fd57d4",
   "metadata": {},
   "source": [
    "REPRESENTAIION OF VARIOUS MODELS USING PLOTS FOR BALANCED DATA"
   ]
  },
  {
   "cell_type": "code",
   "execution_count": 116,
   "id": "23956048",
   "metadata": {},
   "outputs": [],
   "source": [
    "models = ['Logistic Regression', 'Support Vector', 'KNearest Neighbor', 'Decision Tree', 'Random Forest', 'Gradient Boosting']\n",
    "comparison_methods = pd.DataFrame({\n",
    "    'Models': models,\n",
    "    'Accuracy': [\n",
    "        accuracy_score(y_test, y_pred1),\n",
    "        accuracy_score(y_test, y_pred2),\n",
    "        accuracy_score(y_test, y_pred3),\n",
    "        accuracy_score(y_test, y_pred4),\n",
    "        accuracy_score(y_test, y_pred5),\n",
    "        accuracy_score(y_test, y_pred6)\n",
    "    ]\n",
    "})\n"
   ]
  },
  {
   "cell_type": "code",
   "execution_count": null,
   "id": "1e887483",
   "metadata": {},
   "outputs": [],
   "source": [
    "comparison_methods"
   ]
  },
  {
   "cell_type": "code",
   "execution_count": null,
   "id": "e343903a",
   "metadata": {},
   "outputs": [],
   "source": [
    "sns.barplot(x='Models', y='Accuracy', data=comparison_methods, dodge=False)\n",
    "plt.xticks(rotation=65, ha='right')\n",
    "plt.title('Plot of models based on Accuracy for balanced data')\n",
    "plt.legend(title='Data Type', labels=['Balanced Data'])\n",
    "plt.show()\n"
   ]
  },
  {
   "cell_type": "code",
   "execution_count": 119,
   "id": "2160b0a2",
   "metadata": {},
   "outputs": [],
   "source": [
    "models = ['Logistic Regression', 'Support Vector', 'KNearest Neighbor', 'Decision Tree', 'Random Forest', 'Gradient Boosting']\n",
    "comparison_methods = pd.DataFrame({\n",
    "    'Models': models,\n",
    "    'Precision': [\n",
    "        precision_score(y_test, y_pred1),\n",
    "        precision_score(y_test, y_pred2),\n",
    "        precision_score(y_test, y_pred3),\n",
    "        precision_score(y_test, y_pred4),\n",
    "        precision_score(y_test, y_pred5),\n",
    "        precision_score(y_test, y_pred6)\n",
    "    ]\n",
    "})\n"
   ]
  },
  {
   "cell_type": "code",
   "execution_count": null,
   "id": "8f9b76e7",
   "metadata": {},
   "outputs": [],
   "source": [
    "comparison_methods"
   ]
  },
  {
   "cell_type": "code",
   "execution_count": null,
   "id": "8f0b3fd5",
   "metadata": {},
   "outputs": [],
   "source": [
    "sns.barplot(x='Models', y='Precision', data=comparison_methods, dodge=False)\n",
    "plt.xticks(rotation=65, ha='right')\n",
    "plt.title('Plot of models based on Precision for balanced data')\n",
    "plt.legend(title='Data Type', labels=['Balanced Data'])\n",
    "plt.show()\n"
   ]
  },
  {
   "cell_type": "markdown",
   "id": "9485541c",
   "metadata": {},
   "source": [
    "# SAVING THE MODEL\n"
   ]
  },
  {
   "cell_type": "code",
   "execution_count": null,
   "id": "a2677065",
   "metadata": {},
   "outputs": [],
   "source": [
    "X_res=scaler.fit_transform(X_res)\n",
    "rf.fit(X_res,y_res)"
   ]
  },
  {
   "cell_type": "code",
   "execution_count": 124,
   "id": "e1731cf1",
   "metadata": {},
   "outputs": [],
   "source": [
    "import joblib\n"
   ]
  },
  {
   "cell_type": "code",
   "execution_count": null,
   "id": "547ea91e",
   "metadata": {},
   "outputs": [],
   "source": [
    "joblib.dump(rf,'churn_predict_model')\n"
   ]
  },
  {
   "cell_type": "code",
   "execution_count": 126,
   "id": "3f09f8d0",
   "metadata": {},
   "outputs": [],
   "source": [
    "model=joblib.load('churn_predict_model')\n"
   ]
  },
  {
   "cell_type": "code",
   "execution_count": null,
   "id": "cc3d7284",
   "metadata": {},
   "outputs": [],
   "source": [
    "df.columns"
   ]
  },
  {
   "cell_type": "code",
   "execution_count": null,
   "id": "815e3d0c",
   "metadata": {},
   "outputs": [],
   "source": [
    "model.predict([[619,42,2,0.0,0,0,0,101348.88,0,0,0]])\n"
   ]
  },
  {
   "cell_type": "code",
   "execution_count": null,
   "id": "3a80f936",
   "metadata": {},
   "outputs": [],
   "source": [
    "row_12 = df.iloc[11]  #Displaying the datas of a specific row\n",
    "print(row_12)"
   ]
  },
  {
   "cell_type": "code",
   "execution_count": null,
   "id": "f69e4bc3",
   "metadata": {},
   "outputs": [],
   "source": [
    "import tkinter as tk\n",
    "from tkinter import Label, Entry, Button\n",
    "from sklearn.preprocessing import StandardScaler\n",
    "import joblib\n",
    "#scaler = StandardScaler()\n",
    "def show_entry_fields():\n",
    "    p1=int(e1.get())\n",
    "    p2=int(e2.get())\n",
    "    p3=int(e3.get())\n",
    "    p4=float(e4.get())\n",
    "    p5=int(e5.get())\n",
    "    p6=int(e6.get())\n",
    "    p7=int(e7.get())\n",
    "    p8=float(e8.get())\n",
    "    p9=int(e9.get())\n",
    "    if p9 == 1:\n",
    "        Geography_Germany=1\n",
    "        Geography_Spain=0\n",
    "        Geography_France=0\n",
    "    elif p9 == 2:\n",
    "        Geography_Germany=0\n",
    "        Geography_Spain=1\n",
    "        Geography_France=0\n",
    "    elif p9 == 3:\n",
    "        Geography_Germany=0\n",
    "        Geography_Spain=0\n",
    "        Geography_France=1  \n",
    "    p10=int(e10.get())\n",
    "    #model = joblib.load('churn_model'\n",
    "    model=joblib.load('churn_predict_model')\n",
    "    result = model.predict(scaler.transform([[p1, p2, p3, p4, p5, p6, p7, p8, Geography_Germany, Geography_Spain, p10]]))\n",
    "\n",
    "    \n",
    "    if result == 0:\n",
    "        Label(master, text=\"Did not Churn\").grid(row=31)\n",
    "    else:\n",
    "        Label(master, text=\"Churned\").grid(row=31)\n",
    "    \n",
    "    \n",
    "master = tk.Tk()\n",
    "master.title(\"Bank Customers Churn Prediction Using Machine Learning\")\n",
    "\n",
    "\n",
    "label = Label(master, text = \"Customers Churn Prediction Using ML\"\n",
    "                          , bg = \"black\", fg = \"white\"). \\\n",
    "                               grid(row=0,columnspan=2)\n",
    "\n",
    "\n",
    "Label(master, text=\"CreditScore\").grid(row=1)\n",
    "Label(master, text=\"Age\").grid(row=2)\n",
    "Label(master, text=\"Tenure\").grid(row=3)\n",
    "Label(master, text=\"Balance\").grid(row=4)\n",
    "Label(master, text=\"NumOfProducts\").grid(row=5)\n",
    "Label(master, text=\"HasCrCard\").grid(row=6)\n",
    "Label(master, text=\"IsActiveMember\").grid(row=7)\n",
    "Label(master, text=\"EstimatedSalary\").grid(row=8)\n",
    "Label(master, text=\"Geography\").grid(row=9)\n",
    "Label(master,text=\"Gender\").grid(row=10)\n",
    "\n",
    "\n",
    "e1 = Entry(master)\n",
    "e2 = Entry(master)\n",
    "e3 = Entry(master)\n",
    "e4 = Entry(master)\n",
    "e5 = Entry(master)\n",
    "e6 = Entry(master)\n",
    "e7 = Entry(master)\n",
    "e8 = Entry(master)\n",
    "e9 = Entry(master)\n",
    "e10 = Entry(master)\n",
    "\n",
    "\n",
    "e1.grid(row=1, column=1)\n",
    "e2.grid(row=2, column=1)\n",
    "e3.grid(row=3, column=1)\n",
    "e4.grid(row=4, column=1)\n",
    "e5.grid(row=5, column=1)\n",
    "e6.grid(row=6, column=1)\n",
    "e7.grid(row=7, column=1)\n",
    "e8.grid(row=8, column=1)\n",
    "e9.grid(row=9, column=1)\n",
    "e10.grid(row=10,column=1)\n",
    "\n",
    "Button(master, text='Predict', command=show_entry_fields).grid()\n",
    "\n",
    "master.mainloop()"
   ]
  },
  {
   "cell_type": "code",
   "execution_count": null,
   "id": "d75d43c5",
   "metadata": {},
   "outputs": [],
   "source": []
  },
  {
   "cell_type": "code",
   "execution_count": null,
   "id": "cbac986c",
   "metadata": {},
   "outputs": [],
   "source": []
  }
 ],
 "metadata": {
  "kernelspec": {
   "display_name": "Python 3 (ipykernel)",
   "language": "python",
   "name": "python3"
  },
  "language_info": {
   "codemirror_mode": {
    "name": "ipython",
    "version": 3
   },
   "file_extension": ".py",
   "mimetype": "text/x-python",
   "name": "python",
   "nbconvert_exporter": "python",
   "pygments_lexer": "ipython3",
   "version": "3.12.7"
  }
 },
 "nbformat": 4,
 "nbformat_minor": 5
}
